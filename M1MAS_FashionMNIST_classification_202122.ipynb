{
  "nbformat": 4,
  "nbformat_minor": 0,
  "metadata": {
    "colab": {
      "name": "M1MAS_FashionMNIST_classification_202122.ipynb",
      "provenance": [],
      "authorship_tag": "ABX9TyP8UaurmyIr+v0t7dnzvv9Y",
      "include_colab_link": true
    },
    "kernelspec": {
      "name": "python3",
      "display_name": "Python 3"
    },
    "language_info": {
      "name": "python"
    }
  },
  "cells": [
    {
      "cell_type": "markdown",
      "metadata": {
        "id": "view-in-github",
        "colab_type": "text"
      },
      "source": [
        "<a href=\"https://colab.research.google.com/github/bgalerne/M1MAS_Stat_Images/blob/master/M1MAS_FashionMNIST_classification_202122.ipynb\" target=\"_parent\"><img src=\"https://colab.research.google.com/assets/colab-badge.svg\" alt=\"Open In Colab\"/></a>"
      ]
    },
    {
      "cell_type": "markdown",
      "source": [
        "#Projet final pour le cours M1MAS \"Apprentissage pour l'image\", année 2021-2022\n",
        "\n",
        "## Consignes\n",
        "\n",
        "### Date et modalité\n",
        "Ce projet est à rendre au plus tard le dimanche 24 avril (avant les examens).\n",
        "Les projets sont à envoyer par email à \n",
        "\n",
        "  ```\n",
        "  bruno.galerne@univ-orleans.fr\n",
        "  ``` \n",
        "\n",
        "sous forme d’un python notebook (*.ipynb) contenant la sortie des cellules. Le fichier doit être nommé\n",
        "  ```\n",
        "  NOM_Prenom_M1MAS_FashionMNIST_classification_202122.ipynb\n",
        "  ```\n",
        "Si le fichier dépasse la taille de 5 Mo merci de l'envoyer par un lien cloud (comme https://filesender.renater.fr/, dropbox, filetransfer...).\n",
        "\n",
        "\n",
        "On conseille de travailler avec Google Colab.\n",
        "Depuis Colab vous devez faire \n",
        "```\n",
        "  Fichier -> Télécharger le fichier .ipynb\n",
        "``` \n",
        "pour récupérer le fichier à envoyer.\n",
        "\n",
        "## Plagiat\n",
        "\n",
        "\n",
        "Ce qui suit est un plagiat de https://www.larousse.fr/dictionnaires/francais/plagiat/61301 :\n",
        "\n",
        "\"Plagiat, nom masculin, (de plagiaire) :\n",
        "\n",
        "— Acte de quelqu’un qui, dans le domaine artistique ou littéraire, donne pour sien ce qu’il a pris à l’œuvre\n",
        "d’un autre.\n",
        "\n",
        "— Ce qui est emprunté, copié, démarqué.\"\n",
        "\n",
        "Tout plagiat de texte est strictement interdit.\n",
        "Le plagiat de morceaux de code est autorisé à condition que chaque source soit citée, en précisant le lien internet par exemple.\n",
        "Cette règle ne s'applique pas au code du tutoriel vu en cours qui sera la base de travail à savoir :\n",
        "\n",
        "https://pytorch.org/tutorials/beginner/blitz/cifar10_tutorial.html#sphx-glr-beginner-blitz-cifar10-tutorial-py\n",
        "\n",
        "\n",
        "## Travail attendu\n",
        "\n",
        "Il est attendu que:\n",
        "* Toute cellule de code soit précédée par une description de ce qu'elle contient.\n",
        "* Chaque résultat obtenu soit commenté.\n"
      ],
      "metadata": {
        "id": "JVSu8Uap9PAZ"
      }
    },
    {
      "cell_type": "markdown",
      "source": [
        "#Classification de la base FashionMNIST par réseau de neurones"
      ],
      "metadata": {
        "id": "59OUyiad9dza"
      }
    },
    {
      "cell_type": "markdown",
      "source": [
        "###Question 1 :\n",
        "En utilisant la classe \n",
        "```\n",
        "CLASS torchvision.datasets.FashionMNIST\n",
        "```\n",
        "documentée ici :\n",
        "\n",
        "https://pytorch.org/vision/stable/generated/torchvision.datasets.FashionMNIST.html#torchvision.datasets.FashionMNIST\n",
        "\n",
        "définir les objets `trainset`, `trainloader`, `testset`, `testloader` et `classes` en définissant une fonction transform qui ramène les niveaux de gris dans l'intervalle $[-1,1]$.\n",
        "\n",
        "Afficher quelques images avec leur classe correspondante."
      ],
      "metadata": {
        "id": "fvIKvXBHBs7-"
      }
    },
    {
      "cell_type": "code",
      "source": [
        "# TODO: définir les objets trainset, trainloader, testset, testloader et classes\n",
        "\n",
        "\n",
        "# TODO: Affichage\n"
      ],
      "metadata": {
        "id": "oPPeD6X8Bric"
      },
      "execution_count": 1,
      "outputs": []
    },
    {
      "cell_type": "markdown",
      "source": [
        "###Question 2 : \n",
        "\n",
        "Décrire quantitativement la base de données en répondant aux questions suivantes : \n",
        "\n",
        "* Quelle est la taille de chaque image ? \n",
        "* Combien y a-t-il d'images au total pour `trainset` et `testset` ? \n",
        "* Combien d'images par classe ?\n",
        "* Combien de classes ?\n",
        "\n",
        "On pourra proposer un script pour répondre aux questions.\n"
      ],
      "metadata": {
        "id": "88hk_RFQDC9f"
      }
    },
    {
      "cell_type": "markdown",
      "source": [
        "TODO"
      ],
      "metadata": {
        "id": "hNve6p8aD7DM"
      }
    },
    {
      "cell_type": "code",
      "source": [
        "#TODO"
      ],
      "metadata": {
        "id": "Efy-d-H9D8fP"
      },
      "execution_count": null,
      "outputs": []
    },
    {
      "cell_type": "markdown",
      "source": [
        "## Réseau de neurones convolutionnel (CNN)\n",
        "\n",
        "On souhaite définir un réseau de neurones convolutionnel (CNN) qui s'applique aux images de `FashionMNIST`et effectue la suite d'opérations suivante :\n",
        "\n",
        "**Partie CNN :** \n",
        " * Une convolution 2D de noyau de taille 5x5 avec 8 canaux en sortie, suivie d'une activation  ReLU.\n",
        " * Un max-pooling 2D de taille 2x2\n",
        " * Une convolution 2D de noyau de taille 5x5 avec 18 canaux en sortie, suivie d'une activation  ReLU.\n",
        " * Un max-pooling 2D de taille 2x2\n",
        " \n",
        "**Partie linéaire :**\n",
        " * Une couche linéaire avec dimension de sortie 100, suivie d'une activation  ReLU.\n",
        " * Une couche linéaire avec dimension de sortie 60, suivie d'une activation  ReLU.\n",
        " * Une couche linéaire finale permettant la classification.\n",
        "\n"
      ],
      "metadata": {
        "id": "E6wiUT0FEFRt"
      }
    },
    {
      "cell_type": "markdown",
      "source": [
        "###Question 3 : \n",
        "\n",
        "Etant donné un batch `x` (dont on précisera les dimensions) en entrée du CNN, expliciter les dimensions des tenseurs en entrée et en sortie de chacune des couches successives du réseau. On prendra soin de préciser les opérations nécessaires pour passer de la partie CNN à la partie linéaire."
      ],
      "metadata": {
        "id": "O1P0bWYOGj2d"
      }
    },
    {
      "cell_type": "markdown",
      "source": [
        "TODO"
      ],
      "metadata": {
        "id": "bNKPH0hOHg4u"
      }
    },
    {
      "cell_type": "markdown",
      "source": [
        "###Question 4 : \n",
        "Définir une class `CNNet` qui implémente le modèle décrit ci-dessus.\n",
        "\n",
        "Définir un réseau cnnet = CNNet() et tester sa fonction `forward` sur un batch du `trainset`.\n",
        "\n",
        "Afficher quel est le nombre de paramètres du réseau."
      ],
      "metadata": {
        "id": "wt1jCa_YHi4K"
      }
    },
    {
      "cell_type": "code",
      "source": [
        "#TODO"
      ],
      "metadata": {
        "id": "rDn_bDIcHYJH"
      },
      "execution_count": null,
      "outputs": []
    },
    {
      "cell_type": "markdown",
      "source": [
        "##Entraînement du réseau"
      ],
      "metadata": {
        "id": "czxLOjJpImVp"
      }
    },
    {
      "cell_type": "markdown",
      "source": [
        "###Question 5 : \n",
        "Proposer un script qui entraîne le réseau `cnnet` sur 10 epochs avec affichage à chaque epochs de l'\"epoch loss\" (moyenne des loss sur chaque batch considérés dans l'epoch, soit la \"running loss\" accumulée sur toute l'epoch) et du temps total de l'entraînement.\n",
        "\n"
      ],
      "metadata": {
        "id": "JMSz4iH4H8ON"
      }
    },
    {
      "cell_type": "code",
      "source": [
        "# TODO:\n",
        "\n"
      ],
      "metadata": {
        "id": "1QKBtP1iKrBd"
      },
      "execution_count": null,
      "outputs": []
    },
    {
      "cell_type": "markdown",
      "source": [
        "### Question 6 : \n",
        "\n",
        "Expliquer la relation mathématique entre la sortie du réseau de neurones et la classe prédite par le réseau de neurone. Justifier cette formule.\n"
      ],
      "metadata": {
        "id": "gTrG06YqKxNU"
      }
    },
    {
      "cell_type": "markdown",
      "source": [
        "TODO: On peut écrire des équations \n",
        "$$\n",
        "f(x) = \\exp(x)\n",
        "$$\n"
      ],
      "metadata": {
        "id": "3S6kbbUyLDgL"
      }
    },
    {
      "cell_type": "markdown",
      "source": [
        "### Question 7 :\n",
        "A l'aide des fonctions de ```sklearn```utilisées en cours, évaluer la performance du réseau entraîné (rapport de classification et matrice de confusion).\n",
        "\n",
        "Commenter les résultats"
      ],
      "metadata": {
        "id": "NEeDRD39LMzW"
      }
    },
    {
      "cell_type": "code",
      "source": [
        "# TODO"
      ],
      "metadata": {
        "id": "Ei-gbw30LS8B"
      },
      "execution_count": null,
      "outputs": []
    },
    {
      "cell_type": "markdown",
      "source": [
        "TODO: Commentaires"
      ],
      "metadata": {
        "id": "6vFql50kLg15"
      }
    },
    {
      "cell_type": "markdown",
      "source": [
        "## Comparaison avec un réseau à une couche cachée"
      ],
      "metadata": {
        "id": "JnsGeSQKLjeB"
      }
    },
    {
      "cell_type": "markdown",
      "source": [
        "Pour finir nous allons comparer la performance du réseau CNN avec un réseau simple à une seule couche cachée.\n",
        "\n",
        "On va utiliser l'architecture suivante : \n",
        "\n",
        "* Une couche linéaire avec dimension de sortie 400, suivie d'une activation  ReLU.\n",
        "* Une couche linéaire finale permettant la classification."
      ],
      "metadata": {
        "id": "qCREf5WDLyr9"
      }
    },
    {
      "cell_type": "markdown",
      "source": [
        "###Question 8 : \n",
        "Définir une class `MLP` qui implémente le modèle décrit ci-dessus.\n",
        "\n",
        "Définir un réseau mlp = MLP() et tester sa fonction `forward` sur un batch du `trainset`.\n",
        "\n",
        "Afficher quel est le nombre de paramètres du réseau `mlp`. Commenter."
      ],
      "metadata": {
        "id": "lAu4vfJmMYc5"
      }
    },
    {
      "cell_type": "code",
      "source": [
        "# TODO"
      ],
      "metadata": {
        "id": "d2PsY5DHLiUK"
      },
      "execution_count": 2,
      "outputs": []
    },
    {
      "cell_type": "markdown",
      "source": [
        "###Question 9 : \n",
        "Adapter les scripts des questions 5 et 7 pour entraîner le réseau `mlp` et évaluer sa performance.\n",
        "\n",
        "Comparer les performances des deux réseaux entraînés.\n",
        "\n"
      ],
      "metadata": {
        "id": "I8wiYKM6M9Bg"
      }
    },
    {
      "cell_type": "code",
      "source": [
        "# TODO"
      ],
      "metadata": {
        "id": "4hTBIWgQMwkD"
      },
      "execution_count": null,
      "outputs": []
    },
    {
      "cell_type": "markdown",
      "source": [
        "TODO"
      ],
      "metadata": {
        "id": "Ju609F1ANWS3"
      }
    },
    {
      "cell_type": "code",
      "source": [
        ""
      ],
      "metadata": {
        "id": "QDHge_s0NW89"
      },
      "execution_count": null,
      "outputs": []
    }
  ]
}