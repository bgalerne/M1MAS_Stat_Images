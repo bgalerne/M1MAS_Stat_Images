{
  "nbformat": 4,
  "nbformat_minor": 0,
  "metadata": {
    "colab": {
      "name": "Multiclass_Logistic_Regression.ipynb",
      "provenance": [],
      "collapsed_sections": [],
      "authorship_tag": "ABX9TyO6oXAtue2aGI8pDLM2b/fb",
      "include_colab_link": true
    },
    "kernelspec": {
      "name": "python3",
      "display_name": "Python 3"
    }
  },
  "cells": [
    {
      "cell_type": "markdown",
      "metadata": {
        "id": "view-in-github",
        "colab_type": "text"
      },
      "source": [
        "<a href=\"https://colab.research.google.com/github/bgalerne/M1MAS_Stat_Images/blob/master/Multiclass_Logistic_Regression.ipynb\" target=\"_parent\"><img src=\"https://colab.research.google.com/assets/colab-badge.svg\" alt=\"Open In Colab\"/></a>"
      ]
    },
    {
      "cell_type": "markdown",
      "metadata": {
        "id": "NHDqo7H0ymzd",
        "colab_type": "text"
      },
      "source": [
        " # Multiclass logistic regression\n",
        " Goal:\n",
        " 1. Visualize a multi-class logisitc regression for 2D data\n",
        " 2. Implement gradient descent\n",
        " 3. Implement (averaged) stochastic gradient descent\n",
        " 4. Recover the same result with PyTorch using a linear network and the torch.nn.CrossEntropyLoss"
      ]
    },
    {
      "cell_type": "code",
      "metadata": {
        "id": "2vWdx2AvyGMg",
        "colab_type": "code",
        "colab": {}
      },
      "source": [
        "import numpy as np\n",
        "import matplotlib.pyplot as plt\n",
        "from matplotlib.colors import ListedColormap\n",
        "from sklearn.datasets import make_moons, make_circles, make_classification, make_blobs, make_gaussian_quantiles\n",
        "from sklearn.svm import SVC\n",
        "from sklearn import metrics\n",
        "from sklearn.model_selection import train_test_split\n",
        "from sklearn.preprocessing import StandardScaler"
      ],
      "execution_count": 0,
      "outputs": []
    },
    {
      "cell_type": "code",
      "metadata": {
        "id": "qzWqv9vv0e9a",
        "colab_type": "code",
        "colab": {
          "base_uri": "https://localhost:8080/",
          "height": 628
        },
        "outputId": "79b1f66d-8c97-4558-f835-e015d66108de"
      },
      "source": [
        "# create some toy datasets :\n",
        "\n",
        "#\n",
        "n_class = 3\n",
        "X, t = make_classification(n_features=2, n_redundant=0, n_informative=2, random_state=1, n_classes=n_class, n_clusters_per_class=1)\n",
        "X = StandardScaler().fit_transform(X)\n",
        "print(X.shape)\n",
        "\n",
        "#X, y = make_gaussian_quantiles(n_features=2, n_classes=3)\n",
        "\n",
        "\n",
        "X_train, X_test, t_train, t_test = train_test_split(X, t, test_size=.4, random_state=42)\n",
        "\n",
        "figure = plt.figure(figsize=(10, 10))\n",
        "plt.scatter(X_train[:, 0], X_train[:, 1], marker='o', c=t_train, s=50, edgecolor='k')\n",
        "plt.scatter(X_test[:, 0], X_test[:, 1], marker='P', c=t_test, s=50, edgecolor='k')\n",
        "\n",
        "\n",
        "N_train = X_train.shape[0]\n",
        "N_test = X_test.shape[0]"
      ],
      "execution_count": 79,
      "outputs": [
        {
          "output_type": "stream",
          "text": [
            "(100, 2)\n",
            "[2 2 0 0 1 0 0 1 1 0]\n"
          ],
          "name": "stdout"
        },
        {
          "output_type": "display_data",
          "data": {
            "image/png": "[encoded data removed]",
            "text/plain": [
              "<Figure size 720x720 with 1 Axes>"
            ]
          },
          "metadata": {
            "tags": []
          }
        }
      ]
    },
    {
      "cell_type": "code",
      "metadata": {
        "id": "8V-HnaFy7uI6",
        "colab_type": "code",
        "colab": {
          "base_uri": "https://localhost:8080/",
          "height": 144
        },
        "outputId": "84770db3-3ea6-4122-f2a6-2c22c7fb88f2"
      },
      "source": [
        "# Apply feature transform:\n",
        "\n",
        "# Add the 1 coordinate for bias:\n",
        "Phi_train = np.hstack( (X_train, X_train**2, np.ones((N_train,1))))\n",
        "Phi_test = np.hstack( (X_test, X_test**2, np.ones((N_test,1))))\n",
        "print(X_train[:3,:])\n",
        "print(Phi_train.shape)\n",
        "print(Phi_train[:3,:])\n",
        "\n",
        "n_feat = Phi_train.shape[1]\n"
      ],
      "execution_count": 133,
      "outputs": [
        {
          "output_type": "stream",
          "text": [
            "[[-0.48636766 -0.83582518]\n",
            " [-0.23499918 -0.10249415]\n",
            " [ 1.208468    0.37790152]]\n",
            "(60, 5)\n",
            "[[-0.48636766 -0.83582518  0.2365535   0.69860372  1.        ]\n",
            " [-0.23499918 -0.10249415  0.05522462  0.01050505  1.        ]\n",
            " [ 1.208468    0.37790152  1.46039491  0.14280956  1.        ]]\n"
          ],
          "name": "stdout"
        }
      ]
    },
    {
      "cell_type": "code",
      "metadata": {
        "id": "ZwcajoX759ay",
        "colab_type": "code",
        "colab": {}
      },
      "source": [
        "# Function for Multiclass logistic regression:\n",
        "# - W is the matrix of size n_feat x n_class\n",
        "\n",
        "def soft_max(W, Phi):\n",
        "  # evaluate the softmax vector for a list of feature points phi (given in line) \n",
        "  a = W.transpose() @ Phi.transpose() \n",
        "  y = np.exp(a)\n",
        "  s = np.sum(y,axis=0)\n",
        "  y = (y/s).transpose()\n",
        "  return(y)\n",
        "\n",
        "def predicted_class(W,Phi):\n",
        "  y = soft_max(W, Phi)\n",
        "  if Phi.ndim==1:\n",
        "    pred = np.argmax(y)\n",
        "  else:\n",
        "    pred = np.argmax(y,axis=1)\n",
        "  return(pred)\n",
        "\n",
        "def mloglikelihood(W, Phi, t):\n",
        "  y = soft_max(W, Phi)\n",
        "  # extract values of softmax for the class k=t\n",
        "  if t.ndim == 0:\n",
        "    y = y[t]\n",
        "    L = np.log(y)\n",
        "  else:\n",
        "    y = y[np.arange(Phi.shape[0]),t]\n",
        "    L = - np.sum(np.log(y))\n",
        "  return(L)\n",
        "\n",
        "def gradmloglikelihood(W, Phi, t):\n",
        "  y = soft_max(W, Phi)\n",
        "  # extract values of softmax for the class k=t\n",
        "  if t.ndim == 0:\n",
        "    y[t] -= 1\n",
        "    y.shape = (n_class,1)\n",
        "    Phi.shape = (1,n_feat)\n",
        "    g = y @ Phi\n",
        "  else:\n",
        "    y[np.arange(Phi.shape[0]),t] = y[np.arange(Phi.shape[0]),t] - 1\n",
        "    #print(y.shape)\n",
        "    #print(Phi.shape)\n",
        "    g = y.transpose() @ Phi\n",
        "  return(g.transpose())\n",
        "\n"
      ],
      "execution_count": 0,
      "outputs": []
    },
    {
      "cell_type": "code",
      "metadata": {
        "id": "eOXP7T3aaxrG",
        "colab_type": "code",
        "colab": {}
      },
      "source": [
        "W = np.random.random((n_feat,n_class))\n",
        "print(W)\n",
        "print('Tests of soft_max')\n",
        "print(soft_max(W, Phi_train[0,:]))\n",
        "print(soft_max(W, Phi_train[1,:]))\n",
        "print(soft_max(W, Phi_train[0:2,:]))\n",
        "print('\\nTests of mloglikelihood')\n",
        "print(mloglikelihood(W, Phi_train[0,:], t_train[0]))\n",
        "print(mloglikelihood(W, Phi_train[0:2,:], t_train[0:2]))\n",
        "print(mloglikelihood(W, Phi_train, t_train))\n",
        "print('\\nTests of gradmloglikelihood')\n",
        "print(gradmloglikelihood(W, Phi_train, t_train))\n",
        "print(gradmloglikelihood(W, Phi_train[0,:], t_train[0]))\n",
        "\n",
        "\n"
      ],
      "execution_count": 0,
      "outputs": []
    },
    {
      "cell_type": "code",
      "metadata": {
        "id": "-NChi0BqOsvz",
        "colab_type": "code",
        "colab": {
          "base_uri": "https://localhost:8080/",
          "height": 1000
        },
        "outputId": "8497d78c-b9b5-48b5-9994-527ee91c2782"
      },
      "source": [
        "lr = 0.1\n",
        "\n",
        "Nit = 100\n",
        "for n in range(Nit):\n",
        "  W -= lr*gradmloglikelihood(W, Phi_train, t_train)\n",
        "  print(mloglikelihood(W, Phi_train, t_train))\n",
        "\n"
      ],
      "execution_count": 132,
      "outputs": [
        {
          "output_type": "stream",
          "text": [
            "17.642431979013665\n",
            "5.051934355802694\n",
            "3.9326680926382402\n",
            "3.4559629148489988\n",
            "3.1962234704875887\n",
            "3.025694021550776\n",
            "2.898592342889348\n",
            "2.796339207978476\n",
            "2.7099330553165206\n",
            "2.6343590514578827\n",
            "2.5666122116363046\n",
            "2.504818334391433\n",
            "2.447765567802866\n",
            "2.39463681186735\n",
            "2.3448547108751865\n",
            "2.297991558481538\n",
            "2.2537164703497505\n",
            "2.211763867681488\n",
            "2.1719141917286695\n",
            "2.133981719151943\n",
            "2.0978065757675113\n",
            "2.0632492928859185\n",
            "2.030186948483477\n",
            "1.998510328877532\n",
            "1.968121770806385\n",
            "1.938933473523267\n",
            "1.910866146917473\n",
            "1.883847907641856\n",
            "1.8578133635476617\n",
            "1.8327028446410272\n",
            "1.808461750425926\n",
            "1.785039991297164\n",
            "1.7623915070197531\n",
            "1.7404738491365126\n",
            "1.7192478169123693\n",
            "1.6986771384829005\n",
            "1.6787281904399458\n",
            "1.6593697502986706\n",
            "1.640572777243357\n",
            "1.6223102173086648\n",
            "1.6045568297653876\n",
            "1.5872890319784565\n",
            "1.5704847604143228\n",
            "1.5541233458136503\n",
            "1.5381854008272982\n",
            "1.5226527186497951\n",
            "1.507508181383324\n",
            "1.4927356770334508\n",
            "1.4783200241805847\n",
            "1.4642469034929781\n",
            "1.4505027953512706\n",
            "1.437074922944092\n",
            "1.423951200271261\n",
            "1.4111201845578323\n",
            "1.3985710326398342\n",
            "1.3862934609327986\n",
            "1.3742777086378117\n",
            "1.3625145038779827\n",
            "1.350995032491637\n",
            "1.3397109092378359\n",
            "1.3286541511955918\n",
            "1.3178171531608616\n",
            "1.3071926648654526\n",
            "1.296773769859713\n",
            "1.2865538659165854\n",
            "1.276526646828594\n",
            "1.2666860854817303\n",
            "1.2570264181012876\n",
            "1.247542129574574\n",
            "1.238227939764235\n",
            "1.2290787907338985\n",
            "1.2200898348148312\n",
            "1.2112564234488077\n",
            "1.2025740967479988\n",
            "1.1940385737179007\n",
            "1.1856457430940035\n",
            "1.1773916547470178\n",
            "1.1692725116153864\n",
            "1.1612846621271335\n",
            "1.1534245930763107\n",
            "1.1456889229220921\n",
            "1.1380743954811212\n",
            "1.1305778739860823\n",
            "1.1231963354855856\n",
            "1.115926865562396\n",
            "1.1087666533487885\n",
            "1.1017129868194666\n",
            "1.0947632483439045\n",
            "1.0879149104813903\n",
            "1.0811655320032245\n",
            "1.0745127541277142\n",
            "1.0679542969546065\n",
            "1.0614879560865773\n",
            "1.055111599426299\n",
            "1.048823164138354\n",
            "1.0426206537660845\n",
            "1.0365021354940844\n",
            "1.0304657375477437\n",
            "1.0245096467217634\n",
            "1.018632106030168\n"
          ],
          "name": "stdout"
        }
      ]
    },
    {
      "cell_type": "code",
      "metadata": {
        "id": "xrtNLDeP3yUj",
        "colab_type": "code",
        "colab": {
          "base_uri": "https://localhost:8080/",
          "height": 53
        },
        "outputId": "86613056-be16-4737-805d-3c57a85e8b4f"
      },
      "source": [
        "pred = predicted_class(W,Phi_test)\n",
        "print(pred[:10])\n",
        "print(t_test[:10])"
      ],
      "execution_count": 138,
      "outputs": [
        {
          "output_type": "stream",
          "text": [
            "[2 1 0 0 1 1 1 0 0 0]\n",
            "[2 1 0 0 1 2 1 0 0 0]\n"
          ],
          "name": "stdout"
        }
      ]
    },
    {
      "cell_type": "code",
      "metadata": {
        "id": "KRRxPsI2Amdd",
        "colab_type": "code",
        "colab": {}
      },
      "source": [
        ""
      ],
      "execution_count": 0,
      "outputs": []
    }
  ]
}