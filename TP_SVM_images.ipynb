{
  "nbformat": 4,
  "nbformat_minor": 0,
  "metadata": {
    "colab": {
      "name": "TP_SVM_images.ipynb",
      "provenance": [],
      "collapsed_sections": [],
      "authorship_tag": "ABX9TyOrPnaJ9Ld6TAffYAexau8l",
      "include_colab_link": true
    },
    "kernelspec": {
      "name": "python3",
      "display_name": "Python 3"
    }
  },
  "cells": [
    {
      "cell_type": "markdown",
      "metadata": {
        "id": "view-in-github",
        "colab_type": "text"
      },
      "source": [
        "<a href=\"https://colab.research.google.com/github/bgalerne/M1MAS_Stat_Images/blob/master/TP_SVM_images.ipynb\" target=\"_parent\"><img src=\"https://colab.research.google.com/assets/colab-badge.svg\" alt=\"Open In Colab\"/></a>"
      ]
    },
    {
      "cell_type": "markdown",
      "metadata": {
        "id": "waqYlY_8KbSk",
        "colab_type": "text"
      },
      "source": [
        "#Lab session on Support Vector Machines (SVN) for supervised classification\n",
        "\n",
        "#Outline:\n",
        "1. Linear and non linear SVN classifiers for 2D data. Important parameters\n",
        "\n",
        "2. SVN classifier for image classification:\n",
        "  - Handwritten digits\n",
        "  - CIFAR-10 database\n"
      ]
    },
    {
      "cell_type": "markdown",
      "metadata": {
        "id": "4doFK0H-LxJu",
        "colab_type": "text"
      },
      "source": [
        "# 1. Linear and non linear SVN classifiers for 2D data\n",
        "Most of the code is from scikit-learn's [Classifier comparison](https://scikit-learn.org/stable/auto_examples/classification/plot_classifier_comparison.html)."
      ]
    },
    {
      "cell_type": "code",
      "metadata": {
        "id": "MhvjxOMrJuGH",
        "colab_type": "code",
        "colab": {}
      },
      "source": [
        "import numpy as np\n",
        "import matplotlib.pyplot as plt\n",
        "from matplotlib.colors import ListedColormap\n",
        "from sklearn.datasets import make_moons, make_circles, make_classification\n",
        "from sklearn.svm import SVC\n",
        "from sklearn import metrics\n",
        "from sklearn.model_selection import train_test_split\n",
        "from sklearn.preprocessing import StandardScaler"
      ],
      "execution_count": 0,
      "outputs": []
    },
    {
      "cell_type": "code",
      "metadata": {
        "id": "74HGyXn_NKWM",
        "colab_type": "code",
        "colab": {}
      },
      "source": [
        "# create some toy datasets :\n",
        "\n",
        "#\n",
        "X, y = make_classification(n_features=2, n_redundant=0, n_informative=2,\n",
        "                           random_state=1, n_clusters_per_class=1)\n",
        "lsds = (X, y)\n",
        "rng = np.random.RandomState(2)\n",
        "X2 = X.copy()\n",
        "X2 += 2 * rng.uniform(size=X2.shape)\n",
        "nslsds = (X2,y.copy())\n",
        "\n",
        "datasets = [lsds,\n",
        "            nslsds,\n",
        "            make_moons(noise=0.3, random_state=0),\n",
        "            make_circles(noise=0.2, factor=0.5, random_state=1)\n",
        "            ]\n",
        "\n",
        "# split each datasets into training and testing sets:\n",
        "datasets_train = []\n",
        "datasets_test = []\n",
        "for ds_cnt, ds in enumerate(datasets):\n",
        "  # preprocess dataset, split into training and test part\n",
        "  X, y = ds\n",
        "  X = StandardScaler().fit_transform(X)\n",
        "  X_train, X_test, y_train, y_test = \\\n",
        "      train_test_split(X, y, test_size=.4, random_state=42)\n",
        "  datasets_train.append((X_train, y_train))\n",
        "  datasets_test.append((X_test, y_test))\n"
      ],
      "execution_count": 0,
      "outputs": []
    },
    {
      "cell_type": "code",
      "metadata": {
        "id": "QHcolrMfbCZw",
        "colab_type": "code",
        "colab": {}
      },
      "source": [
        "# plot each dataset:\n",
        "h = .02  # step size in the mesh\n",
        "figure = plt.figure(figsize=(3, 12))\n",
        "i=1\n",
        "for ds_cnt, ds in enumerate(datasets_train):\n",
        "  X_train, y_train = ds\n",
        "  X_test, y_test = datasets_test[ds_cnt]\n",
        "  X = np.concatenate((X_train,X_test)) # all data\n",
        "  x_min, x_max = X[:, 0].min() - .5, X[:, 0].max() + .5\n",
        "  y_min, y_max = X[:, 1].min() - .5, X[:, 1].max() + .5\n",
        "  xx, yy = np.meshgrid(np.arange(x_min, x_max, h),\n",
        "                        np.arange(y_min, y_max, h))\n",
        "  # just plot the dataset first\n",
        "  cm = plt.cm.RdBu\n",
        "  cm_bright = ListedColormap(['#FF0000', '#0000FF'])\n",
        "  ax = plt.subplot(len(datasets), 1, i)\n",
        "  if ds_cnt == 0:\n",
        "      ax.set_title(\"Input data\")\n",
        "  # Plot the training points\n",
        "  ax.scatter(X_train[:, 0], X_train[:, 1], c=y_train, cmap=cm_bright,\n",
        "              edgecolors='k')\n",
        "  # Plot the testing points\n",
        "  ax.scatter(X_test[:, 0], X_test[:, 1], c=y_test, cmap=cm_bright, alpha=0.6,\n",
        "              edgecolors='k')\n",
        "  ax.set_xlim(xx.min(), xx.max())\n",
        "  ax.set_ylim(yy.min(), yy.max())\n",
        "  ax.set_xticks(())\n",
        "  ax.set_yticks(())\n",
        "  i+=1\n",
        "\n",
        "plt.tight_layout()\n",
        "plt.show()"
      ],
      "execution_count": 0,
      "outputs": []
    },
    {
      "cell_type": "markdown",
      "metadata": {
        "id": "iVNFsxJoaSeQ",
        "colab_type": "text"
      },
      "source": [
        "#Question:\n",
        "\n",
        "Which dataset is linearly separable?"
      ]
    },
    {
      "cell_type": "markdown",
      "metadata": {
        "id": "Yzx8J_cnbQA4",
        "colab_type": "text"
      },
      "source": [
        "#Linear SVM VS Kernel SVM\n",
        "For each dataset we fit a linear SVM and a kernel SVM using the Gaussian radial basis function\n",
        "\n",
        "$$\n",
        "k(x,x') = e^{-\\gamma \\|x-x'\\|}.\n",
        "$$\n",
        "\n",
        "For each classifier, the accuracy is displayed in the plot. Recall that the accuray is the ratio of well-classified points among all points:\n",
        "$$\n",
        "\\text{Accuracy} = \\frac{\\text{TP}+\\text{TN}}{\\text{TP}+\\text{FP}+\\text{TN}+ \\text{FN}}\n",
        "$$\n",
        "\n"
      ]
    },
    {
      "cell_type": "code",
      "metadata": {
        "id": "qw0qzQHbbO4z",
        "colab_type": "code",
        "colab": {}
      },
      "source": [
        "# Define two classifiers\n",
        "names = [\"Linear SVM\", \"RBF SVM\"]\n",
        "classifiers = [SVC(kernel=\"linear\", C=0.025), SVC(gamma=2, C=1)]\n",
        "\n",
        "figure = plt.figure(figsize=(9, 9))\n",
        "i = 1\n",
        "# iterate over datasets: for each dataset: train each classifier + plot result\n",
        "for ds_cnt, ds in enumerate(datasets_train):\n",
        "  X_train, y_train = ds\n",
        "  X_test, y_test = datasets_test[ds_cnt]\n",
        "  X = np.concatenate((X_train,X_test)) # all data\n",
        "\n",
        "  x_min, x_max = X[:, 0].min() - .5, X[:, 0].max() + .5\n",
        "  y_min, y_max = X[:, 1].min() - .5, X[:, 1].max() + .5\n",
        "  xx, yy = np.meshgrid(np.arange(x_min, x_max, h),\n",
        "                        np.arange(y_min, y_max, h))\n",
        "\n",
        "  # just plot the dataset first\n",
        "  cm = plt.cm.RdBu\n",
        "  cm_bright = ListedColormap(['#FF0000', '#0000FF'])\n",
        "  ax = plt.subplot(len(datasets), len(classifiers) + 1, i)\n",
        "  if ds_cnt == 0:\n",
        "      ax.set_title(\"Input data\")\n",
        "  # Plot the training points\n",
        "  ax.scatter(X_train[:, 0], X_train[:, 1], c=y_train, cmap=cm_bright,\n",
        "              edgecolors='k')\n",
        "  # Plot the testing points\n",
        "  ax.scatter(X_test[:, 0], X_test[:, 1], c=y_test, cmap=cm_bright, alpha=0.6,\n",
        "              edgecolors='k')\n",
        "  ax.set_xlim(xx.min(), xx.max())\n",
        "  ax.set_ylim(yy.min(), yy.max())\n",
        "  ax.set_xticks(())\n",
        "  ax.set_yticks(())\n",
        "  i += 1\n",
        "\n",
        "  # iterate over classifiers\n",
        "  for name, clf in zip(names, classifiers):\n",
        "    ax = plt.subplot(len(datasets), len(classifiers) + 1, i)\n",
        "\n",
        "    # train classifier:\n",
        "    clf.fit(X_train, y_train)\n",
        "\n",
        "    # evaluate classifier accuracy:\n",
        "    score = clf.score(X_test, y_test)\n",
        "\n",
        "    # Plot the decision boundary. For that, we will assign a color to each\n",
        "    # point in the mesh [x_min, x_max]x[y_min, y_max].\n",
        "    Z = clf.decision_function(np.c_[xx.ravel(), yy.ravel()])\n",
        "    \n",
        "    # Put the result into a color plot\n",
        "    Z = Z.reshape(xx.shape)\n",
        "    ax.contourf(xx, yy, Z, cmap=cm, alpha=.8)\n",
        "\n",
        "    # Plot the training points\n",
        "    ax.scatter(X_train[:, 0], X_train[:, 1], c=y_train, cmap=cm_bright,\n",
        "                edgecolors='k')\n",
        "    # Plot the testing points\n",
        "    ax.scatter(X_test[:, 0], X_test[:, 1], c=y_test, cmap=cm_bright,\n",
        "                edgecolors='k', alpha=0.6)\n",
        "\n",
        "    ax.set_xlim(xx.min(), xx.max())\n",
        "    ax.set_ylim(yy.min(), yy.max())\n",
        "    ax.set_xticks(())\n",
        "    ax.set_yticks(())\n",
        "    if ds_cnt == 0:\n",
        "      ax.set_title(name)\n",
        "    ax.text(xx.max() - .3, yy.min() + .3, ('%.2f' % score).lstrip('0'),\n",
        "            size=15, horizontalalignment='right')\n",
        "    i += 1\n",
        "\n",
        "plt.tight_layout()\n",
        "plt.show()\n",
        "\n",
        "\n",
        "\n",
        "\n"
      ],
      "execution_count": 0,
      "outputs": []
    },
    {
      "cell_type": "markdown",
      "metadata": {
        "id": "ehqoOvyojSNQ",
        "colab_type": "text"
      },
      "source": [
        "##Exercice\n",
        "\n",
        "Define two additional classifiers using the Gaussian RBF kernel with other $\\gamma$ values. \n",
        "Chose extreme values of $\\gamma$ for which:\n",
        " - The first new SVM classifier is close to a linear classifier\n",
        " - The second new SVM classifier suffers from overfitting"
      ]
    },
    {
      "cell_type": "markdown",
      "metadata": {
        "id": "EXjmOtaflraP",
        "colab_type": "text"
      },
      "source": [
        "# 2. Recognizing hand-written digits using a SVM\n",
        "Most of the code is from scikit-learn's [Recognizing hand-written digits](https://scikit-learn.org/stable/auto_examples/classification/plot_digits_classification.html)."
      ]
    },
    {
      "cell_type": "code",
      "metadata": {
        "id": "4P3aAT9FmJ4A",
        "colab_type": "code",
        "colab": {}
      },
      "source": [
        "import matplotlib.pyplot as plt\n",
        "\n",
        "# Import datasets, classifiers and performance metrics\n",
        "from sklearn import datasets, svm, metrics\n",
        "from sklearn.model_selection import train_test_split\n"
      ],
      "execution_count": 0,
      "outputs": []
    },
    {
      "cell_type": "code",
      "metadata": {
        "id": "ppzmmI3wkVBk",
        "colab_type": "code",
        "colab": {}
      },
      "source": [
        "\n",
        "# The digits dataset\n",
        "digits = datasets.load_digits()\n",
        "\n",
        "# The data that we are interested in is made of 8x8 images of digits, let's\n",
        "# have a look at the first 30 images, stored in the `images` attribute of the\n",
        "# dataset.  If we were working from image files, we could load them using\n",
        "# matplotlib.pyplot.imread.  Note that each image must have the same size. For these\n",
        "# images, we know which digit they represent: it is given in the 'target' of\n",
        "# the dataset.\n",
        "_, axes = plt.subplots(3, 10,figsize=(20, 6))\n",
        "images_and_labels = list(zip(digits.images, digits.target))\n",
        "for ax, (image, label) in zip(axes[0,:], images_and_labels[:10]):\n",
        "    ax.set_axis_off()\n",
        "    ax.imshow(image, cmap=plt.cm.gray_r, interpolation='nearest')\n",
        "    ax.set_title('Training: %i' % label)\n",
        "for ax, (image, label) in zip(axes[1,:], images_and_labels[10:20]):\n",
        "    ax.set_axis_off()\n",
        "    ax.imshow(image, cmap=plt.cm.gray_r, interpolation='nearest')\n",
        "    ax.set_title('Training: %i' % label)\n",
        "for ax, (image, label) in zip(axes[2,:], images_and_labels[20:30]):\n",
        "    ax.set_axis_off()\n",
        "    ax.imshow(image, cmap=plt.cm.gray_r, interpolation='nearest')\n",
        "    ax.set_title('Training: %i' % label)\n",
        "\n",
        "\n",
        "plt.show()"
      ],
      "execution_count": 0,
      "outputs": []
    },
    {
      "cell_type": "code",
      "metadata": {
        "id": "5GiRIFDAmX2d",
        "colab_type": "code",
        "colab": {}
      },
      "source": [
        "# Data processing:\n",
        "# To apply a classifier on this data, we need to flatten the image, to\n",
        "# turn the data in a (samples, feature) matrix:\n",
        "n_samples = len(digits.images)\n",
        "data = digits.images.reshape((n_samples, -1))\n",
        "\n",
        "# Split data into train and test subsets\n",
        "X_train, X_test, y_train, y_test = train_test_split(\n",
        "    data, digits.target, test_size=0.5, shuffle=False)\n"
      ],
      "execution_count": 0,
      "outputs": []
    },
    {
      "cell_type": "code",
      "metadata": {
        "id": "Q2XvF2ZfmrU5",
        "colab_type": "code",
        "colab": {}
      },
      "source": [
        "# Classifier training:\n",
        "# Create a classifier: a support vector classifier\n",
        "classifier = svm.SVC(gamma=0.001)\n",
        "\n",
        "# We learn the digits on the first half of the digits\n",
        "classifier.fit(X_train, y_train)\n",
        "\n",
        "# Now predict the value of the digit on the second half:\n",
        "predicted = classifier.predict(X_test)\n",
        "\n",
        "print(\"Classification report for classifier %s:\\n%s\\n\"\n",
        "      % (classifier, metrics.classification_report(y_test, predicted)))\n",
        "disp = metrics.plot_confusion_matrix(classifier, X_test, y_test)\n",
        "disp.figure_.suptitle(\"Confusion Matrix\")\n",
        "print(\"Confusion matrix:\\n%s\" % disp.confusion_matrix)\n",
        "\n",
        "plt.show()"
      ],
      "execution_count": 0,
      "outputs": []
    },
    {
      "cell_type": "code",
      "metadata": {
        "id": "bRprmKldr_kY",
        "colab_type": "code",
        "colab": {}
      },
      "source": [
        "#plot some prediction for test images:\n",
        "\n",
        "_, axes = plt.subplots(3, 10,figsize=(20, 6))\n",
        "images_labels_and_predictions = list(zip(digits.images[n_samples // 2:],digits.target[n_samples // 2:], predicted))\n",
        "for ax, (image, label,pred) in zip(axes[0,:], images_labels_and_predictions[:10]):\n",
        "    ax.set_axis_off()\n",
        "    ax.imshow(image, cmap=plt.cm.gray_r, interpolation='nearest')\n",
        "    ax.set_title('Test: %i / Pred: %i' % (label, pred))\n",
        "for ax, (image, label,pred) in zip(axes[1,:], images_labels_and_predictions[10:20]):\n",
        "    ax.set_axis_off()\n",
        "    ax.imshow(image, cmap=plt.cm.gray_r, interpolation='nearest')\n",
        "    ax.set_title('Test: %i / Pred: %i' % (label, pred))\n",
        "for ax, (image, label,pred) in zip(axes[2,:], images_labels_and_predictions[30:40]):\n",
        "    ax.set_axis_off()\n",
        "    ax.imshow(image, cmap=plt.cm.gray_r, interpolation='nearest')\n",
        "    ax.set_title('Test: %i / Pred: %i' % (label, pred))\n",
        "\n",
        "\n",
        "plt.show()\n"
      ],
      "execution_count": 0,
      "outputs": []
    },
    {
      "cell_type": "markdown",
      "metadata": {
        "id": "pOswfM4csAem",
        "colab_type": "text"
      },
      "source": [
        "#Exercise: \n",
        "1. Display 10 images that are missclassified.\n",
        "2. Is the performance sensitive to the parameter values?"
      ]
    },
    {
      "cell_type": "markdown",
      "metadata": {
        "id": "LUcD1XVZr6zm",
        "colab_type": "text"
      },
      "source": [
        ""
      ]
    }
  ]
}